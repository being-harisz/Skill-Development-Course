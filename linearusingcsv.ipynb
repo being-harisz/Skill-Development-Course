{
  "nbformat": 4,
  "nbformat_minor": 0,
  "metadata": {
    "colab": {
      "provenance": [],
      "authorship_tag": "ABX9TyMdcjMKTOCIFUGlTPHHVYWm",
      "include_colab_link": true
    },
    "kernelspec": {
      "name": "python3",
      "display_name": "Python 3"
    },
    "language_info": {
      "name": "python"
    }
  },
  "cells": [
    {
      "cell_type": "markdown",
      "metadata": {
        "id": "view-in-github",
        "colab_type": "text"
      },
      "source": [
        "<a href=\"https://colab.research.google.com/github/being-harisz/Skill-Development-Course/blob/main/linearusingcsv.ipynb\" target=\"_parent\"><img src=\"https://colab.research.google.com/assets/colab-badge.svg\" alt=\"Open In Colab\"/></a>"
      ]
    },
    {
      "cell_type": "code",
      "execution_count": null,
      "metadata": {
        "id": "X9fPxcvBjXfN"
      },
      "outputs": [],
      "source": [
        "import pandas as pd\n",
        "\n",
        "# Sample dataset of tourist spots and budget for a few destinations\n",
        "data = {\n",
        "    'Place': ['Paris', 'Rome', 'New York', 'Tokyo', 'London'],\n",
        "    'Tourist Spots': [\n",
        "        ['Eiffel Tower', 'Louvre Museum', 'Notre-Dame Cathedral'],\n",
        "        ['Colosseum', 'Vatican City', 'Pantheon'],\n",
        "        ['Statue of Liberty', 'Central Park', 'Empire State Building'],\n",
        "        ['Mount Fuji', 'Shibuya Crossing', 'Tokyo Tower'],\n",
        "        ['Big Ben', 'London Eye', 'Buckingham Palace']\n",
        "    ],\n",
        "    'Average Daily Budget (USD)': [150, 120, 200, 170, 180]  # Estimated average budget per day\n",
        "}\n",
        "\n",
        "# Create a DataFrame from the data\n",
        "df = pd.DataFrame(data)\n",
        "\n",
        "# Function to get tourist spots and budget for the place and number of days\n",
        "def recommend_tourist_spots_and_budget(place, days):\n",
        "    # Find the row for the given place\n",
        "    place_info = df[df['Place'].str.lower() == place.lower()]\n",
        "\n",
        "    if place_info.empty:\n",
        "        return \"Sorry, no data available for this place.\"\n",
        "\n",
        "    # Extract the tourist spots and average daily budget\n",
        "    tourist_spots = place_info.iloc[0]['Tourist Spots']\n",
        "    avg_daily_budget = place_info.iloc[0]['Average Daily Budget (USD)']\n",
        "\n",
        "    # Calculate the estimated total budget for the trip\n",
        "    total_budget = avg_daily_budget * days\n",
        "\n",
        "    # Prepare the output\n",
        "    result = {\n",
        "        'Tourist Spots': tourist_spots,\n",
        "        'Total Budget (USD)': total_budget\n",
        "    }\n",
        "    return result\n",
        "\n",
        "# Input from user\n",
        "place = input(\"Enter the place you are visiting: \")\n",
        "days = int(input(\"Enter the number of days you will spend there: \"))\n",
        "\n",
        "# Get the tourist spots and budget\n",
        "result = recommend_tourist_spots_and_budget(place, days)\n",
        "\n",
        "# Output the result\n",
        "if isinstance(result, dict):\n",
        "    print(f\"Tourist Spots in {place}: {', '.join(result['Tourist Spots'])}\")\n",
        "    print(f\"Estimated Total Budget for {days} days: ${result['Total Budget (USD)']}\")\n",
        "else:\n",
        "    print(result)\n",
        "\n"
      ]
    },
    {
      "cell_type": "code",
      "source": [],
      "metadata": {
        "id": "EGNQXmF1kkOE"
      },
      "execution_count": null,
      "outputs": []
    },
    {
      "cell_type": "code",
      "source": [
        "import pandas as pd\n",
        "from sklearn.model_selection import train_test_split\n",
        "from sklearn.linear_model import LinearRegression\n",
        "from sklearn.metrics import mean_squared_error\n",
        "import matplotlib.pyplot as plt\n",
        "\n",
        "# Read the data from the CSV file\n",
        "df = pd.read_csv('house_prices.csv')\n",
        "\n",
        "# Features (X) and target variable (y)\n",
        "X = df[['Size', 'Bedrooms']]\n",
        "y = df['Price']\n",
        "\n",
        "# Split data into training and testing sets\n",
        "X_train, X_test, y_train, y_test = train_test_split(X, y, test_size=0.2, random_state=42)\n",
        "\n",
        "# Create and train the model\n",
        "model = LinearRegression()\n",
        "model.fit(X_train, y_train)\n",
        "\n",
        "# Predict and evaluate\n",
        "y_pred = model.predict(X_test)\n",
        "mse = mean_squared_error(y_test, y_pred)\n",
        "print(f'Mean Squared Error: {mse}')\n",
        "\n",
        "# Plot actual vs predicted\n",
        "plt.scatter(y_test, y_pred)\n",
        "plt.xlabel('Actual Prices')\n",
        "plt.ylabel('Predicted Prices')\n",
        "plt.title('Actual vs Predicted House Prices')\n",
        "plt.show()\n",
        "\n",
        "# User input\n",
        "print(\"Welcome to the House Price Prediction System!\")\n",
        "size = float(input(\"Enter the size of the house in square feet: \"))\n",
        "bedrooms = int(input(\"Enter the number of bedrooms in the house: \"))\n",
        "\n",
        "# Predict the price\n",
        "new_house = pd.DataFrame({'Size': [size], 'Bedrooms': [bedrooms]})\n",
        "predicted_price = model.predict(new_house)\n",
        "print(f'Predicted Price for a {size} sq ft, {bedrooms}-bedroom house: ${predicted_price[0]:,.2f}')\n",
        "\n",
        "# Append the new data to the CSV (including predicted price)\n",
        "new_row = pd.DataFrame({\n",
        "    'Size': [size],\n",
        "    'Bedrooms': [bedrooms],\n",
        "    'Price': [predicted_price[0]]\n",
        "})\n",
        "\n",
        "# Append to the CSV\n",
        "new_row.to_csv('house_prices.csv', mode='a', header=False, index=False)\n",
        "print(\"New data added to house_prices.csv!\")\n"
      ],
      "metadata": {
        "id": "KmO_1799kkcC"
      },
      "execution_count": null,
      "outputs": []
    }
  ]
}