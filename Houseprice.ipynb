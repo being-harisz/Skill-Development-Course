{
  "nbformat": 4,
  "nbformat_minor": 0,
  "metadata": {
    "colab": {
      "provenance": [],
      "authorship_tag": "ABX9TyOb9uJSQ8HOGQAglIRSGAN3",
      "include_colab_link": true
    },
    "kernelspec": {
      "name": "python3",
      "display_name": "Python 3"
    },
    "language_info": {
      "name": "python"
    }
  },
  "cells": [
    {
      "cell_type": "markdown",
      "metadata": {
        "id": "view-in-github",
        "colab_type": "text"
      },
      "source": [
        "<a href=\"https://colab.research.google.com/github/being-harisz/Skill-Development-Course/blob/main/Houseprice.ipynb\" target=\"_parent\"><img src=\"https://colab.research.google.com/assets/colab-badge.svg\" alt=\"Open In Colab\"/></a>"
      ]
    },
    {
      "cell_type": "code",
      "execution_count": 1,
      "metadata": {
        "colab": {
          "base_uri": "https://localhost:8080/"
        },
        "id": "dWLMiVuAjypg",
        "outputId": "cb3ac8fb-9992-482f-a1f8-5d21e0fe8d6c"
      },
      "outputs": [
        {
          "output_type": "stream",
          "name": "stdout",
          "text": [
            "Mean Squared Error: 592889932.0486463\n",
            "Root Mean Squared Error: 24349.33124438218\n",
            "Predicted price for the new house: $555,962.51\n"
          ]
        }
      ],
      "source": [
        "import pandas as pd\n",
        "from sklearn.model_selection import train_test_split\n",
        "from sklearn.linear_model import LinearRegression\n",
        "from sklearn.metrics import mean_squared_error\n",
        "import numpy as np\n",
        "\n",
        "# Sample house price dataset (for demonstration)\n",
        "data = {\n",
        "    'Square_Feet': [1500, 1800, 2400, 3000, 3500, 4000, 4500, 5000, 5500, 6000],\n",
        "    'Bedrooms': [3, 4, 3, 5, 4, 4, 5, 6, 6, 7],\n",
        "    'Age': [10, 15, 20, 5, 7, 3, 15, 10, 5, 2],  # Age of the house\n",
        "    'Location': ['City', 'Suburbs', 'City', 'Suburbs', 'City', 'City', 'Suburbs', 'City', 'Suburbs', 'City'],\n",
        "    'Price': [400000, 500000, 600000, 650000, 700000, 750000, 800000, 850000, 900000, 950000]  # Target variable\n",
        "}\n",
        "\n",
        "# Convert to DataFrame\n",
        "df = pd.DataFrame(data)\n",
        "\n",
        "# Encode categorical variable (Location) into numeric values\n",
        "df['Location'] = df['Location'].map({'City': 1, 'Suburbs': 0})\n",
        "\n",
        "# Features and target variable\n",
        "X = df[['Square_Feet', 'Bedrooms', 'Age', 'Location']]  # Features\n",
        "y = df['Price']  # Target variable (House Price)\n",
        "\n",
        "# Split the data into training and testing sets\n",
        "X_train, X_test, y_train, y_test = train_test_split(X, y, test_size=0.2, random_state=42)\n",
        "\n",
        "# Create and train the model (Linear Regression)\n",
        "model = LinearRegression()\n",
        "model.fit(X_train, y_train)\n",
        "\n",
        "# Make predictions on the test set\n",
        "y_pred = model.predict(X_test)\n",
        "\n",
        "# Calculate the Mean Squared Error (MSE) to evaluate the model\n",
        "mse = mean_squared_error(y_test, y_pred)\n",
        "rmse = np.sqrt(mse)\n",
        "\n",
        "# Output the results\n",
        "print(\"Mean Squared Error:\", mse)\n",
        "print(\"Root Mean Squared Error:\", rmse)\n",
        "\n",
        "# Predict the price of a new house\n",
        "new_house = pd.DataFrame({\n",
        "    'Square_Feet': [2500],\n",
        "    'Bedrooms': [4],\n",
        "    'Age': [10],\n",
        "    'Location': [1]  # 1 for City, 0 for Suburbs\n",
        "})\n",
        "\n",
        "predicted_price = model.predict(new_house)\n",
        "print(f\"Predicted price for the new house: ${predicted_price[0]:,.2f}\")\n"
      ]
    }
  ]
}